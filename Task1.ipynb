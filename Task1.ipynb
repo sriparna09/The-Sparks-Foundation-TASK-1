{
 "cells": [
  {
   "cell_type": "markdown",
   "metadata": {},
   "source": [
    "# SRIPARNA BHATTACHARJEE\n",
    "# TASK 2 : Predicting the percentage of scores of a student based on the number of study hours\n"
   ]
  },
  {
   "cell_type": "code",
   "execution_count": null,
   "metadata": {},
   "outputs": [],
   "source": [
    "# import the libraries\n",
    "import pandas as pd\n",
    "import numpy as np\n",
    "import matplotlib.pyplot as plt\n",
    "from sklearn.linear_model import LinearRegression\n",
    "from sklearn.model_selection import train_test_split "
   ]
  },
  {
   "cell_type": "code",
   "execution_count": 50,
   "metadata": {},
   "outputs": [
    {
     "name": "stdout",
     "output_type": "stream",
     "text": [
      "Data has been imported successfully.\n",
      "   Hours  Scores\n",
      "0    2.5      21\n",
      "1    5.1      47\n",
      "2    3.2      27\n",
      "3    8.5      75\n",
      "4    3.5      30\n",
      "5    1.5      20\n",
      "6    9.2      88\n",
      "7    5.5      60\n"
     ]
    }
   ],
   "source": [
    "# read the data\n",
    "    \n",
    "data = pd.read_csv(\"https://raw.githubusercontent.com/AdiPersonalWorks/Random/master/student_scores%20-%20student_scores.csv\")\n",
    "print(\"Data has been imported successfully.\")\n",
    "print(data.head(8))\n",
    "\n",
    "#convert into numpy arrays\n",
    "    \n",
    "hrs = data['Hours'].to_numpy()  \n",
    "scr = data['Scores'].to_numpy()\n",
    "\n",
    "#reshaping my data set\n",
    "hrs= hrs.reshape(-1,1)\n",
    "scr= scr.reshape(-1,1)"
   ]
  },
  {
   "cell_type": "markdown",
   "metadata": {},
   "source": [
    "# Plotting the data on a scatterplot "
   ]
  },
  {
   "cell_type": "code",
   "execution_count": 51,
   "metadata": {},
   "outputs": [
    {
     "data": {
      "image/png": "[encoded data removed]",
      "text/plain": [
       "<Figure size 432x288 with 1 Axes>"
      ]
     },
     "metadata": {
      "needs_background": "light"
     },
     "output_type": "display_data"
    },
    {
     "name": "stdout",
     "output_type": "stream",
     "text": [
      "So clearly we observe a positive correlation between Hours studied and percentage of Scores.\n"
     ]
    }
   ],
   "source": [
    "#plot the data \n",
    "\n",
    "\n",
    "plt.scatter(hrs,scr)\n",
    "plt.scatter(hrs, scr, color='red', marker='s')\n",
    "plt.title('Hours Studied vs Percentage Scored')\n",
    "plt.xlabel('Hours Studied')  \n",
    "plt.ylabel('Percentage Score') \n",
    "plt.show()\n",
    "\n",
    "print(\"So clearly we observe a positive correlation between Hours studied and percentage of Scores.\")\n"
   ]
  },
  {
   "cell_type": "markdown",
   "metadata": {},
   "source": [
    "# In order to perform a Linear Regression algorithm to this problem we devide the dataset into two subsets . Training Set and Test set . For this we use scikit learn."
   ]
  },
  {
   "cell_type": "code",
   "execution_count": 52,
   "metadata": {},
   "outputs": [
    {
     "name": "stdout",
     "output_type": "stream",
     "text": [
      "(20, 1) (20, 1) (5, 1) (5, 1)\n"
     ]
    }
   ],
   "source": [
    "#devide the data into training and test set. We import train_test_split from sklearn.model_selection \n",
    "hrs_tr, hrs_te, scr_tr, scr_te = train_test_split(hrs, scr, test_size = 0.2, random_state = 0 )\n",
    "print(hrs_tr.shape, scr_tr.shape,hrs_te.shape,scr_te.shape)"
   ]
  },
  {
   "cell_type": "markdown",
   "metadata": {},
   "source": [
    "## Apply Linear Regression ##"
   ]
  },
  {
   "cell_type": "code",
   "execution_count": 56,
   "metadata": {},
   "outputs": [
    {
     "name": "stdout",
     "output_type": "stream",
     "text": [
      "Coefficient :  [[9.91065648]]\n",
      "Intercept :  [2.01816004]\n",
      " \n",
      "Training Complete.\n"
     ]
    }
   ],
   "source": [
    "# Now we need to train our training set data\n",
    "\n",
    "linreg = LinearRegression()\n",
    "linreg.fit(hrs_tr, scr_tr)\n",
    "\n",
    "\n",
    "coef= linreg.coef_ \n",
    "intercept= linreg.intercept_\n",
    "\n",
    "print('Coefficient : ', coef)\n",
    "\n",
    "print(\"Intercept : \", intercept)\n",
    "\n",
    "print(\" \")\n",
    "print(\"Training Complete.\")"
   ]
  },
  {
   "cell_type": "markdown",
   "metadata": {},
   "source": [
    "## INTERCEPT = 2.02 ##\n",
    "## SLOPE = 9.91 ##"
   ]
  },
  {
   "cell_type": "code",
   "execution_count": 74,
   "metadata": {},
   "outputs": [
    {
     "data": {
      "image/png": "[encoded data removed]",
      "text/plain": [
       "<Figure size 432x288 with 1 Axes>"
      ]
     },
     "metadata": {
      "needs_background": "light"
     },
     "output_type": "display_data"
    }
   ],
   "source": [
    "# plot the regression line \n",
    "\n",
    "regression_line = intercept + coef*hrs\n",
    "\n",
    "plt.scatter(hrs, scr)\n",
    "plt.plot(hrs, regression_line, color='red')\n",
    "plt.xlabel('Hours Studied')\n",
    "plt.ylabel(\"Percentage Scored\")\n",
    "plt.show()\n",
    "\n"
   ]
  },
  {
   "cell_type": "code",
   "execution_count": 70,
   "metadata": {},
   "outputs": [
    {
     "name": "stdout",
     "output_type": "stream",
     "text": [
      " So we have our predicted values for Scores.\n",
      "[[16.88414476]\n",
      " [33.73226078]\n",
      " [75.357018  ]\n",
      " [26.79480124]\n",
      " [60.49103328]]\n"
     ]
    }
   ],
   "source": [
    "#predict using test data set\n",
    "hrs_te = hrs_te.reshape(-1,1)\n",
    "scr_hat = linreg.predict(hrs_te)\n",
    "\n",
    "print(\" So we have our predicted values for Scores.\")\n",
    "print(scr_hat)"
   ]
  },
  {
   "cell_type": "code",
   "execution_count": 71,
   "metadata": {},
   "outputs": [
    {
     "data": {
      "image/png": "[encoded data removed]",
      "text/plain": [
       "<Figure size 432x288 with 1 Axes>"
      ]
     },
     "metadata": {
      "needs_background": "light"
     },
     "output_type": "display_data"
    }
   ],
   "source": [
    "#plotting the line for our test data\n",
    "plt.scatter(hrs_te, scr_te, marker = 's')\n",
    "plt.plot(hrs, regression_line, color='r')\n",
    "plt.show()"
   ]
  },
  {
   "cell_type": "markdown",
   "metadata": {},
   "source": [
    "# ** Compare the Actual Scores with that of Predicted Scores **"
   ]
  },
  {
   "cell_type": "code",
   "execution_count": 29,
   "metadata": {},
   "outputs": [
    {
     "data": {
      "text/html": [
       "<div>\n",
       "<style scoped>\n",
       "    .dataframe tbody tr th:only-of-type {\n",
       "        vertical-align: middle;\n",
       "    }\n",
       "\n",
       "    .dataframe tbody tr th {\n",
       "        vertical-align: top;\n",
       "    }\n",
       "\n",
       "    .dataframe thead th {\n",
       "        text-align: right;\n",
       "    }\n",
       "</style>\n",
       "<table border=\"1\" class=\"dataframe\">\n",
       "  <thead>\n",
       "    <tr style=\"text-align: right;\">\n",
       "      <th></th>\n",
       "      <th>Actual Scores</th>\n",
       "      <th>Predicted Scores</th>\n",
       "    </tr>\n",
       "  </thead>\n",
       "  <tbody>\n",
       "    <tr>\n",
       "      <th>0</th>\n",
       "      <td>20</td>\n",
       "      <td>16.884145</td>\n",
       "    </tr>\n",
       "    <tr>\n",
       "      <th>1</th>\n",
       "      <td>27</td>\n",
       "      <td>33.732261</td>\n",
       "    </tr>\n",
       "    <tr>\n",
       "      <th>2</th>\n",
       "      <td>69</td>\n",
       "      <td>75.357018</td>\n",
       "    </tr>\n",
       "    <tr>\n",
       "      <th>3</th>\n",
       "      <td>30</td>\n",
       "      <td>26.794801</td>\n",
       "    </tr>\n",
       "    <tr>\n",
       "      <th>4</th>\n",
       "      <td>62</td>\n",
       "      <td>60.491033</td>\n",
       "    </tr>\n",
       "  </tbody>\n",
       "</table>\n",
       "</div>"
      ],
      "text/plain": [
       "   Actual Scores  Predicted Scores\n",
       "0             20         16.884145\n",
       "1             27         33.732261\n",
       "2             69         75.357018\n",
       "3             30         26.794801\n",
       "4             62         60.491033"
      ]
     },
     "execution_count": 29,
     "metadata": {},
     "output_type": "execute_result"
    }
   ],
   "source": [
    "# we can compare the actual values of scores with that of predicted values\n",
    "\n",
    "\n",
    "Data = pd.DataFrame({'Actual Scores' : scr_te, 'Predicted Scores' : scr_hat})\n",
    "Data\n"
   ]
  },
  {
   "cell_type": "markdown",
   "metadata": {},
   "source": [
    "# ** What will be the predicted value of score if a student studies for 9.25 hrs/ day? ** \n",
    "\n",
    "\n"
   ]
  },
  {
   "cell_type": "code",
   "execution_count": null,
   "metadata": {},
   "outputs": [],
   "source": [
    "# value of score when hours studied is 9.25 hrs/day\n",
    "\n",
    "predicted_score = linreg.predict([[9.25]])\n",
    "print('Score of student who studied for 9.25 hours a day is',predicted_score)\n"
   ]
  },
  {
   "cell_type": "markdown",
   "metadata": {},
   "source": [
    "# ** Model Evaluation **"
   ]
  },
  {
   "cell_type": "code",
   "execution_count": null,
   "metadata": {},
   "outputs": [],
   "source": [
    "# calculating the mean squared error\n",
    "from sklearn import metrics\n",
    "MSE = metrics.mean_squared_error(scr_te, scr_hat)\n",
    "MAE = metrics.mean_absolute_error(scr_te, scr_hat)\n",
    "print('Mean Squared Error:', \n",
    "      MSE) \n",
    "print('Mean Absolute Error:', \n",
    "      MAE)\n"
   ]
  }
 ],
 "metadata": {
  "kernelspec": {
   "display_name": "Python 3",
   "language": "python",
   "name": "python3"
  },
  "language_info": {
   "codemirror_mode": {
    "name": "ipython",
    "version": 3
   },
   "file_extension": ".py",
   "mimetype": "text/x-python",
   "name": "python",
   "nbconvert_exporter": "python",
   "pygments_lexer": "ipython3",
   "version": "3.8.6"
  }
 },
 "nbformat": 4,
 "nbformat_minor": 4
}
